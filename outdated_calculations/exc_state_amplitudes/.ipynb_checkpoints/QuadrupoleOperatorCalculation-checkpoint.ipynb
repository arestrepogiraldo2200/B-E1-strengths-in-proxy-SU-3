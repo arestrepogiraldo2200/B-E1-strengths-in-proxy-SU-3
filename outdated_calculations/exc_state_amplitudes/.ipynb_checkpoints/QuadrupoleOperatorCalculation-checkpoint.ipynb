{
 "cells": [
  {
   "cell_type": "markdown",
   "id": "68da2b96",
   "metadata": {},
   "source": [
    "# Quadrupole Operator calculation\n",
    "\n",
    "The excited state has two contributions from the excitations of proton and neutron to their corresponding contiguous upper shells as\n",
    "\n",
    "$$|\\Phi(J^{\\Pi})_{ex.}\\rangle = \\sqrt{\\beta}|\\Psi_{ex.}^{\\pi}(J^{\\Pi})\\rangle + \\sqrt{1-\\beta}|\\Psi_{ex.}^{\\nu}(J^{\\Pi})\\rangle$$\n",
    "\n",
    "where\n",
    "\n",
    "$$|\\Psi_{ex.}^{\\pi}(J^{\\Pi})\\rangle=\\Bigg|\\hspace{1mm}\\Big([2^{I-1},1]_{\\pi}\\otimes[1]_{\\pi}\\Big)\\otimes[2^{I}]_{\\nu},\\hspace{1mm}\\Big((\\lambda_{\\pi-},\\mu_{\\pi-})\\otimes(\\lambda_{\\pi+},\\mu_{\\pi+})\\Big)\\otimes(\\lambda_{\\nu},\\mu_{\\nu}),\\hspace{1mm}(\\lambda_{\\pi},\\mu_{\\pi})\\otimes (\\lambda_{\\nu},\\mu_{\\nu}),\\hspace{1mm}\\rho(\\lambda,\\mu),K,L;\\hspace{1mm}J=L,M\\Bigg> $$\n",
    "\n",
    "and \n",
    "\n",
    "$$|\\Psi_{ex.}^{\\nu}(J^{\\Pi})\\rangle=\\Bigg|\\hspace{1mm}[2^{I}]_{\\pi}\\otimes\\Big([2^{I-1},1]_{\\nu}\\otimes [1]_{\\nu}\\Big),\\hspace{1mm}(\\lambda_{\\pi},\\mu_{\\pi})\\otimes\\Big((\\lambda_{\\nu-},\\mu_{\\nu-})\\otimes(\\lambda_{\\nu+},\\mu_{\\nu+})\\Big),\\hspace{1mm}(\\lambda_{\\pi},\\mu_{\\pi})\\otimes (\\lambda_{\\nu},\\mu_{\\nu}),\\hspace{1mm}\\rho(\\lambda,\\mu),K,L;\\hspace{1mm}J=L,M\\Bigg> $$\n",
    "\n",
    "The amplitude $\\beta$ must be determined. A method is shown here.\n",
    "\n",
    "\n",
    "## Quadrupole operator \n",
    "\n",
    "The reduced matrix elements of the $Q^{2,\\tau}_\\mu$ operator where $\\tau= \\pi,\\nu$ in proton-neutron scheme are given by \n",
    "\n",
    "$$\n",
    "\\langle(\\lambda_{\\pi},\\mu_{\\pi})\\otimes(\\lambda_{\\nu},\\mu_{\\nu});\\rho(\\lambda,\\mu),K',L',S',J'||Q^{2,\\tau}||(\\lambda_{\\pi},\\mu_{\\pi})\\otimes(\\lambda_{\\nu},\\mu_{\\nu});\\rho(\\lambda,\\mu),K,L,S,J\\rangle \\\\= \\sqrt{2J'+1}\\sqrt{2J+1}(-1)^{S+J+L'+2}\\begin{Bmatrix}\n",
    "S & J & L\\\\\n",
    "2 & L' & J'\n",
    "\\end{Bmatrix}(-1)^{\\phi_\\tau}\\sqrt{2L'+1}\\langle(\\lambda,\\mu),K,L;(1,1),2||(\\lambda,\\mu),K',L'\\rangle_{\\rho=1}\\\\\\times\\begin{Bmatrix}\n",
    "(\\lambda_{\\pi},\\mu_{\\pi}) & (x,y) & (\\lambda_{\\pi},\\mu_{\\pi}) & 1\\\\\n",
    "(\\lambda_{\\nu},\\mu_{\\nu}) & (x',y') & (\\lambda_{\\nu},\\mu_{\\nu}) & 1\\\\\n",
    "(\\lambda,\\mu) & (1,1) & (\\lambda,\\mu) & 1\\\\\n",
    "\\rho & 1 & \\rho &\n",
    "\\end{Bmatrix}\n",
    "$$\n",
    "\n",
    "where \n",
    "\n",
    "$$(-1)^{\\phi} = \\begin{cases} \n",
    "      -1 & \\mu_{\\tau} \\neq 0 \\\\\n",
    "      +1 & \\mu_{\\tau} = 0  \n",
    "   \\end{cases}\n",
    "$$\n",
    "\n",
    "$$\n",
    "\\begin{cases} \n",
    "      (x,y)=(1,1),(x',y')=(0,0) & \\tau=\\pi\\\\\n",
    "      (x,y)=(0,0),(x',y')=(1,1) & \\tau=\\nu\n",
    "   \\end{cases}\n",
    "$$"
   ]
  },
  {
   "cell_type": "markdown",
   "id": "982d3f1e",
   "metadata": {},
   "source": [
    "The total quadrupole transition operator is given by\n",
    "\n",
    "$$\n",
    "T^{2}_{\\mu}(E)= b^2_0\\Big(e_{\\pi}\\mathcal{Q}^{\\hspace{2mm}2}_{\\pi\\mu}+ e_{\\nu}\\mathcal{Q}^{\\hspace{2mm}2}_{\\nu\\mu}\\Big)\n",
    "$$\n",
    "\n",
    "The transition amplitiude between excited band states $|\\Phi(J^{\\Pi}=3^{-})_{ex.}\\rangle$ and $|\\Phi(J^{\\Pi}=1^{-})_{ex.}\\rangle$ is given by \n",
    "\n",
    "$$\n",
    "\\langle\\Phi(J^{\\Pi}=3^-)_{ex.}||T^{2}(E)||\\Phi(J^{\\Pi}=1^-)_{ex.}\\rangle = \\sum_{\\sigma=\\pi,\\nu}e_{\\sigma}b^2_0\\Bigg(\\beta\\langle\\Psi_{ex.}^{\\pi}(J^{\\Pi}=3^-)||\\mathcal{Q}^{2}_{\\sigma}||\\Psi_{ex.}^{\\pi}(J^{\\Pi}=1-)\\rangle + (1-\\beta)\\langle\\Psi_{ex.}^{\\nu}(J^{\\Pi}=3^-)||\\mathcal{Q}^{2}_{\\sigma}||\\Psi_{ex.}^{\\nu}(J^{\\Pi}=1-)\\rangle \\Bigg) \n",
    "\\\\= \n",
    "\\sum_{\\sigma=\\pi,\\nu}e_{\\sigma}b^2_0\n",
    "(2\\times3+1)\\sqrt{2\\times1+1}(-1)^{1+3}\\begin{Bmatrix}\n",
    "0 & 1 & 1\\\\\n",
    "2 & 3 & 3\n",
    "\\end{Bmatrix}(-1)\n",
    "\\langle(65,6),0,1;(1,1),2||(65,6),0,3\\rangle_{\\rho=1}\\\\\\times\\Bigg(\\beta\\begin{Bmatrix}\n",
    "(31,2) & (x,y) & (31,2) & 1\\\\\n",
    "(34,4) & (x',y') & (34,4) & 1\\\\\n",
    "(65,6) & (1,1) & (65,6) & 1\\\\\n",
    "1 & 1 & 1 &\n",
    "\\end{Bmatrix}\n",
    "+(1-\\beta)\\begin{Bmatrix}\n",
    "(26,4) & (x,y) & (26,4) & 1\\\\\n",
    "(39,2) & (x',y') & (39,2) & 1\\\\\n",
    "(65,6) & (1,1) & (65,6) & 1\\\\\n",
    "1 & 1 & 1 &\n",
    "\\end{Bmatrix}\n",
    "\\Bigg) \n",
    "\\\\=\n",
    "\\sum_{\\sigma=\\pi,\\nu}e_{\\sigma}b^2_0\n",
    "\\times(-7)\\times\\sqrt{3}\\frac{1}{\\sqrt{21}}\\times(-0.50504751)\n",
    "\\\\\\times\\Bigg(\\beta\\begin{Bmatrix}\n",
    "(31,2) & (x,y) & (31,2) & 1\\\\\n",
    "(34,4) & (x',y') & (34,4) & 1\\\\\n",
    "(65,6) & (1,1) & (65,6) & 1\\\\\n",
    "1 & 1 & 1 &\n",
    "\\end{Bmatrix}\n",
    "+(1-\\beta)\\begin{Bmatrix}\n",
    "(26,4) & (x,y) & (26,4) & 1\\\\\n",
    "(39,2) & (x',y') & (39,2) & 1\\\\\n",
    "(65,6) & (1,1) & (65,6) & 1\\\\\n",
    "1 & 1 & 1 &\n",
    "\\end{Bmatrix}\n",
    "\\Bigg) \n",
    "\\\\ = 8.115163242349622\\times \\sum_{\\sigma}e_{\\sigma}\\Bigg(\\beta\\begin{Bmatrix}\n",
    "(31,2) & (x,y) & (31,2) & 1\\\\\n",
    "(34,4) & (x',y') & (34,4) & 1\\\\\n",
    "(65,6) & (1,1) & (65,6) & 1\\\\\n",
    "1 & 1 & 1 &\n",
    "\\end{Bmatrix}\n",
    "+(1-\\beta)\\begin{Bmatrix}\n",
    "(26,4) & (x,y) & (26,4) & 1\\\\\n",
    "(39,2) & (x',y') & (39,2) & 1\\\\\n",
    "(65,6) & (1,1) & (65,6) & 1\\\\\n",
    "1 & 1 & 1 &\n",
    "\\end{Bmatrix}\n",
    "\\Bigg) \\\\\n",
    "=8.115163242349622\\times\\Bigg( e_\\pi\\Big(0.97595574\\beta + 0.96920207(1-\\beta)\\Big) + e_\\nu\\Big(0.98100930\\beta + 0.98431101(1-\\beta)\\Big) \\Bigg)\n",
    "$$\n",
    "\n",
    "The effective charges are\n",
    "\n",
    "$$\n",
    "e_{\\nu} =  0.0017936862244897957e\\\\\n",
    "e_{\\pi} =  0.9928651147959183e\n",
    "$$\n",
    "\n",
    "thus \n",
    "\n",
    "$$\n",
    "=0.05436803204432355\\beta + 7.823443164915112\n",
    "$$\n",
    "\n",
    "\n",
    "On the other hand it is known that \n",
    "\n",
    "$$\n",
    "B(E2; J_i\\rightarrow J_f) = \\frac{1}{2J_i+1} |\\langle\\Phi(J^{\\Pi}_f)_{ex.}||T^{2}(E)||\\Phi(J^{\\Pi}_i)_{ex.}\\rangle|^2\n",
    "$$\n",
    "\n",
    "and also\n",
    "\n",
    "$$\n",
    "B(E2; J_i\\rightarrow J_f) = \\frac{2J_f+1}{2J_i+1}\\alpha^2|\\langle(\\lambda,\\mu)KJ_i; (11)2||(\\lambda,\\mu)KJ_f\\rangle|^2C_{2}(\\lambda,\\mu)\n",
    "$$\n",
    "\n",
    "so that i can be derived\n",
    "\n",
    "$$\n",
    "\\langle\\Phi(J^{\\Pi}_f)_{ex.}||T^{2}(E)||\\Phi(J^{\\Pi}_i)_{ex.}\\rangle = \\sqrt{2J_f+1}\\sqrt{C_{2}(\\lambda,\\mu)}\\alpha|\\langle(\\lambda,\\mu)KJ_i; (11)2||(\\lambda,\\mu)KJ_f\\rangle|\n",
    "$$\n",
    "\n",
    "For the particular case of transition between $3⁻$ and $1⁻$\n",
    "\n",
    "$$\n",
    "\\langle\\Phi(3^-)_{ex.}||T^{2}(E)||\\Phi(1^-)_{ex.}\\rangle = \n",
    "$$\n",
    "\n"
   ]
  },
  {
   "cell_type": "code",
   "execution_count": 1,
   "id": "e553b5ef",
   "metadata": {},
   "outputs": [],
   "source": [
    "import numpy as np"
   ]
  },
  {
   "cell_type": "code",
   "execution_count": 2,
   "id": "5b58176d",
   "metadata": {},
   "outputs": [
    {
     "data": {
      "text/plain": [
       "8.115163242349622"
      ]
     },
     "execution_count": 2,
     "metadata": {},
     "output_type": "execute_result"
    }
   ],
   "source": [
    "# coefficient\n",
    "np.sqrt(7)*0.50504751*2.4643818583473065**2"
   ]
  },
  {
   "cell_type": "code",
   "execution_count": 3,
   "id": "98fcbc67",
   "metadata": {},
   "outputs": [],
   "source": [
    "# Order 2 casimir of SU(3)\n",
    "def C2(l,m):\n",
    "    return l**2 + m**2 + l*m + 3.0*(l+m)\n",
    "\n",
    "def effecN(L,Z,A):\n",
    "    return Z*(-1/A)**L\n",
    "\n",
    "def effecP(L,Z,A):\n",
    "    return ((A-1)**L+(-1)**L*(Z-1))/A**L"
   ]
  },
  {
   "cell_type": "code",
   "execution_count": 6,
   "id": "fac1eb9a",
   "metadata": {},
   "outputs": [
    {
     "data": {
      "text/plain": [
       "1726.0"
      ]
     },
     "execution_count": 6,
     "metadata": {},
     "output_type": "execute_result"
    }
   ],
   "source": [
    "C2(39,2)"
   ]
  },
  {
   "cell_type": "code",
   "execution_count": 6,
   "id": "b4dc789a",
   "metadata": {},
   "outputs": [
    {
     "name": "stdout",
     "output_type": "stream",
     "text": [
      "\n",
      "|<3⁻||T²||1⁻>|² =  194.3641471457793   W.u.\n",
      "\n",
      "|<3⁻||T²||1⁻>|² =  7.853018685031066   e²b²\n",
      "\n",
      "<3⁻||T²||1⁻> =  2.802323800889374  eb =  280.23238008893736  efm²\n"
     ]
    }
   ],
   "source": [
    "# Parameters\n",
    "alpha2Wu = 0.02238\n",
    "coeffup = -0.44416453\n",
    "coeffdown = -0.99318207\n",
    "WeisskopfUnitBE2Up = 2.97*10**(-5)*224**(4/3)\n",
    "WeisskopfUnitBE2Down = 5.940*10**(-6)*224**(4/3)\n",
    "coeff31down = -0.77147281\n",
    "coeff31up = -0.50504751\n",
    "\n",
    "# alpha parameter in e²b² and e²fm⁴\n",
    "alpha2 = 96*WeisskopfUnitBE2Up/(coeffup**2*5*C2(60,8))\n",
    "#print(\"\\nα² = \",alpha2,\" e²b²  = \",alpha2*10**4, \" e²fm⁴\")\n",
    "\n",
    "T2 =(2*3+1)*(alpha2Wu)*(coeff31up**2)*(C2(65,6))\n",
    "# Reduced matrix element in W.u of the transition\n",
    "print(\"\\n|<3⁻||T²||1⁻>|² = \", T2 ,\"  W.u.\")\n",
    "print(\"\\n|<3⁻||T²||1⁻>|² = \", T2*WeisskopfUnitBE2Up ,\"  e²b²\")\n",
    "print(\"\\n<3⁻||T²||1⁻> = \", np.sqrt(T2*WeisskopfUnitBE2Up) ,\" eb = \", np.sqrt(T2*WeisskopfUnitBE2Up)*100, \" efm²\")"
   ]
  },
  {
   "cell_type": "code",
   "execution_count": 22,
   "id": "ab2d184b",
   "metadata": {},
   "outputs": [
    {
     "name": "stdout",
     "output_type": "stream",
     "text": [
      "e_ν =  0.0017936862244897957\n",
      "e_π =  0.9928651147959183\n"
     ]
    }
   ],
   "source": [
    "en = effecN(2,90,224)\n",
    "ep = effecP(2,90,224)\n",
    "\n",
    "print(\"e_ν = \", en)\n",
    "print(\"e_π = \", ep)"
   ]
  },
  {
   "cell_type": "code",
   "execution_count": 24,
   "id": "bc59adb9",
   "metadata": {},
   "outputs": [
    {
     "name": "stdout",
     "output_type": "stream",
     "text": [
      "Beta coefficient:  0.06881374398798912\n",
      "Independent term:  15.791771783005762\n"
     ]
    }
   ],
   "source": [
    "#en = 0.5\n",
    "#ep = 1.5\n",
    "\n",
    "betacoeff = 8.115163242349622*(ep*(0.97595574-0.96920207) + en*(0.98100930-0.98431101))\n",
    "indepterm = 8.115163242349622*(ep*0.96920207+en*0.98431101)\n",
    "\n",
    "print(\"Beta coefficient: \", betacoeff)\n",
    "print(\"Independent term: \", indepterm)"
   ]
  },
  {
   "cell_type": "code",
   "execution_count": 18,
   "id": "9895134e",
   "metadata": {},
   "outputs": [
    {
     "name": "stdout",
     "output_type": "stream",
     "text": [
      "β =  5010.461601809328\n"
     ]
    }
   ],
   "source": [
    "print(\"β = \", (280.23238008893736-7.823443164915112)/0.05436803204432355)"
   ]
  },
  {
   "cell_type": "code",
   "execution_count": null,
   "id": "5957c225",
   "metadata": {},
   "outputs": [],
   "source": []
  },
  {
   "cell_type": "code",
   "execution_count": null,
   "id": "229e561c",
   "metadata": {},
   "outputs": [],
   "source": []
  }
 ],
 "metadata": {
  "kernelspec": {
   "display_name": "Python 3 (ipykernel)",
   "language": "python",
   "name": "python3"
  },
  "language_info": {
   "codemirror_mode": {
    "name": "ipython",
    "version": 3
   },
   "file_extension": ".py",
   "mimetype": "text/x-python",
   "name": "python",
   "nbconvert_exporter": "python",
   "pygments_lexer": "ipython3",
   "version": "3.9.12"
  }
 },
 "nbformat": 4,
 "nbformat_minor": 5
}
