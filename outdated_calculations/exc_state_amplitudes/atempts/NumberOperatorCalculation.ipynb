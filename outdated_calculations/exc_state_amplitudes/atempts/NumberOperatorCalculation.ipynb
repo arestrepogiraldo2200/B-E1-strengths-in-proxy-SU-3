{
 "cells": [
  {
   "cell_type": "markdown",
   "id": "d4646517",
   "metadata": {},
   "source": [
    "# Number Operator calculations\n",
    "\n",
    "The excited state has two contributions from the excitations of proton and neutron to their corresponding contiguous upper shells as\n",
    "\n",
    "$$|\\Phi(J^{\\Pi})_{ex.}\\rangle = \\sqrt{\\beta}|\\Psi_{ex.}^{\\pi}(J^{\\Pi})\\rangle + \\sqrt{1-\\beta}|\\Psi_{ex.}^{\\nu}(J^{\\Pi})\\rangle$$\n",
    "\n",
    "where\n",
    "\n",
    "$$|\\Psi_{ex.}^{\\pi}(J^{\\Pi})\\rangle=\\Bigg|\\hspace{1mm}\\Big([2^{I-1},1]_{\\pi}\\otimes[1]_{\\pi}\\Big)\\otimes[2^{I}]_{\\nu},\\hspace{1mm}\\Big((\\lambda_{\\pi-},\\mu_{\\pi-})\\otimes(\\lambda_{\\pi+},\\mu_{\\pi+})\\Big)\\otimes(\\lambda_{\\nu},\\mu_{\\nu}),\\hspace{1mm}(\\lambda_{\\pi},\\mu_{\\pi})\\otimes (\\lambda_{\\nu},\\mu_{\\nu}),\\hspace{1mm}\\rho(\\lambda,\\mu),K,L;\\hspace{1mm}J=L,M\\Bigg> $$\n",
    "\n",
    "and \n",
    "\n",
    "$$|\\Psi_{ex.}^{\\nu}(J^{\\Pi})\\rangle=\\Bigg|\\hspace{1mm}[2^{I}]_{\\pi}\\otimes\\Big([2^{I-1},1]_{\\nu}\\otimes [1]_{\\nu}\\Big),\\hspace{1mm}(\\lambda_{\\pi},\\mu_{\\pi})\\otimes\\Big((\\lambda_{\\nu-},\\mu_{\\nu-})\\otimes(\\lambda_{\\nu+},\\mu_{\\nu+})\\Big),\\hspace{1mm}(\\lambda_{\\pi},\\mu_{\\pi})\\otimes (\\lambda_{\\nu},\\mu_{\\nu}),\\hspace{1mm}\\rho(\\lambda,\\mu),K,L;\\hspace{1mm}J=L,M\\Bigg> $$\n",
    "\n",
    "The amplitude $\\beta$ must be determined.\n",
    "\n",
    "\n",
    "## Number operator \n",
    "\n",
    "The number operator is defined for a single shell as \n",
    "\n",
    "$$ \n",
    "n^{(0,0),K=0,L=0,S=0} = \\sum_{l,m_l,m_s}a^{\\dagger}_{(\\eta,0),l,m_l,\\frac{1}{2},m_s}a_{(\\eta,0),l,m_l,\\frac{1}{2},m_s}\\\\\n",
    "= \\Bigg( \\sum_{l,m_l,m_s}(-1)^{\\eta+l-m_l+\\frac{1}{2}-m_s}\\langle(\\eta,0),l;(0,\\eta)||(0,0),0\\rangle_{\\rho=1}\\langle l,m_l,l,-m_l|0,0\\rangle \\langle \\frac{1}{2},m_s,\\frac{1}{2},-m_s|0,0\\rangle \\Bigg)\n",
    "\\Big\\{ a^{\\dagger}_{(\\eta,0),\\frac{1}{2}}\\tilde{a}_{(0,\\eta),\\frac{1}{2}}  \\Big\\}^{(0,0),K=0,L=0,S=0}\\\\\n",
    "= C(\\eta)\\Big\\{ a^{\\dagger}_{(\\eta,0),\\frac{1}{2}}\\tilde{a}_{(0,\\eta),\\frac{1}{2}}  \\Big\\}^{(0,0),K=0,L=0,S=0}\n",
    "$$\n",
    "\n",
    "$$\\boxed{n^{(0,0),K=0,L=0,S=0}= C(\\eta)\\Big\\{ a^{\\dagger}_{(\\eta,0),\\frac{1}{2}}\\tilde{a}_{(0,\\eta),\\frac{1}{2}}  \\Big\\}^{(0,0),K=0,L=0,S=0}}\n",
    "$$"
   ]
  },
  {
   "cell_type": "code",
   "execution_count": 1,
   "id": "983820ad",
   "metadata": {},
   "outputs": [],
   "source": [
    "import pandas as pd\n",
    "import numpy as np\n",
    "from sympy.physics.quantum.cg import CG\n",
    "\n",
    "# Function to upload SU(3) Wigner coefficients from the program's output format\n",
    "# path is the direction of the file\n",
    "# eta is the label of the irrep of the one-body operator coupling\n",
    "def load_SU3_Wigner_file(path, eta):\n",
    "    \n",
    "    # Filename depending on irrep\n",
    "    filename = path + \"eta\" + eta\n",
    "\n",
    "    # Open file\n",
    "    with open(filename + '.txt') as f:\n",
    "        lines = f.readlines()\n",
    "        \n",
    "    # SU3 irreps loaded\n",
    "    l1, m1 = int(lines[2].split(\" \")[0]), int(lines[2].split(\" \")[1]) \n",
    "    l2, m2 = int(lines[6].split(\" \")[0]), int(lines[6].split(\" \")[1]) \n",
    "    l12, m12 = int(lines[10].split(\" \")[0]), int(lines[10].split(\" \")[1]) \n",
    "    \n",
    "    # Values and labels stored\n",
    "    values = [list(filter(lambda x: x != '', l.split(\" \"))) for l in lines[15:]]\n",
    "    \n",
    "    # Column names and multiplicidades\n",
    "    cols = [\"k1\", \"L1\", \"k2\", \"L2\", \"k3\", \"L3\"]\n",
    "    rhos = []\n",
    "    for i in range(1,len(values[0])-5):\n",
    "        cols.append(\"rho{0}\".format(i))\n",
    "        rhos.append(\"rho{0}\".format(i))\n",
    "        \n",
    "    # Values stored\n",
    "    values_df = pd.DataFrame(np.array(values), columns = cols)\n",
    "    values_df[[\"k1\", \"L1\", \"k2\", \"L2\", \"k3\", \"L3\"]] = values_df[[\"k1\", \"L1\", \"k2\", \"L2\", \"k3\", \"L3\"]].astype(int)\n",
    "    values_df[rhos] = values_df[rhos].astype(float)\n",
    "\n",
    "    return SU3_Wigner(values_df)\n",
    "    \n",
    "# Class to store the SU(3) Wigner values \n",
    "class SU3_Wigner:\n",
    "    \n",
    "    def __init__(self, values):\n",
    "\n",
    "        self.values = values\n",
    "\n",
    "# Function to compute coefficient of number operator\n",
    "# eta is the oscillator shell\n",
    "def C(eta):\n",
    "\n",
    "    # SU(3) coefficients\n",
    "    su3_coeffs = load_SU3_Wigner_file(\"./\", str(eta)).values\n",
    "    \n",
    "    # Sumation to compute C(eta)\n",
    "    suma = 0\n",
    "    \n",
    "    for i in range(0,len(su3_coeffs[\"L1\"])):\n",
    "        \n",
    "        # Fix l\n",
    "        l = su3_coeffs[\"L1\"][i]\n",
    "        su3coeff = su3_coeffs[\"rho1\"][i]\n",
    "        \n",
    "        # Sum over the projections\n",
    "        for ml in range(-l, l+1):\n",
    "            for ms in range(-1,2,2):\n",
    "                \n",
    "                # Phase and coefficients\n",
    "                phase = (-1)**(eta+l-ml+1/2-ms/2)\n",
    "                so3coeff = float(CG(l,ml,l,-ml,0,0).doit())\n",
    "                su2coeff = float(CG(1/2,ms/2,1/2,-ms/2,0,0).doit())\n",
    "                \n",
    "                # To test\n",
    "                #print(\"l:   \", l, \"    ml:      \", ml, \"    ms:    \", ms/2, \"    su3coeff:    \", su3coeff)\n",
    "                \n",
    "                suma += phase*su3coeff*so3coeff*su2coeff\n",
    "                \n",
    "    return suma"
   ]
  },
  {
   "cell_type": "code",
   "execution_count": 2,
   "id": "a0ecbb36",
   "metadata": {},
   "outputs": [
    {
     "name": "stdout",
     "output_type": "stream",
     "text": [
      "Oscillator shell:  5     Coefficient C(eta):  6.480740673169633\n",
      "Oscillator shell:  6     Coefficient C(eta):  7.483314769159289\n",
      "Oscillator shell:  7     Coefficient C(eta):  8.485281339699167\n"
     ]
    }
   ],
   "source": [
    "for i in range(5,8):\n",
    "    print(\"Oscillator shell: \", i, \"    Coefficient C(eta): \", C(i))\n",
    "    \n",
    "eta5 = C(5)\n",
    "eta6 = C(6)\n",
    "eta7 = C(7)"
   ]
  },
  {
   "cell_type": "markdown",
   "id": "07573cd0",
   "metadata": {},
   "source": [
    "The total number operator of the two nucleons ($\\pi,\\nu$) and two shells they occupy is\n",
    "\n",
    "$$\n",
    "n = n^{\\pi} + n^{\\nu} = n^{\\pi}_- + n^{\\pi}_+ + n^{\\nu}_- + n^{\\nu}_+\n",
    "$$\n",
    "\n",
    "where $+$ and $-$ denote the corresponding upper and lower shells respectively. The expected value over the excited state $|\\Phi(J^{\\Pi})_{ex.}\\rangle$ is given by \n",
    "\n",
    "$$\n",
    "\\langle\\Phi(J^{\\Pi})_{ex.}|n|\\Phi(J^{\\Pi})_{ex.}\\rangle = \\sum_{\\substack{\\sigma=\\pi,\\nu \\\\ s= +,-}}\\beta\\langle\\Psi_{ex.}^{\\pi}(J^{\\Pi})|n^{\\sigma}_s|\\Psi_{ex.}^{\\pi}(J^{\\Pi})\\rangle + (1-\\beta)\\langle\\Psi_{ex.}^{\\nu}(J^{\\Pi})|n^{\\sigma}_s|\\Psi_{ex.}^{\\nu}(J^{\\Pi})\\rangle \n",
    "$$\n",
    "\n",
    "no mixing survives because of the scalar character of number operator.  \n",
    "\n"
   ]
  },
  {
   "cell_type": "code",
   "execution_count": 3,
   "id": "075254ee",
   "metadata": {},
   "outputs": [],
   "source": [
    "pp5 = 1.0801234497\n",
    "pp6 = 0.1336306210\n",
    "np5 = 1.2344267997\n",
    "np6 = 0\n",
    "nn6 = 0.9354143467\n",
    "nn7 = 0.1178511302\n",
    "pn6 = 1.0690449676\n",
    "pn7 = 0\n",
    "\n",
    "beta = eta5*pp5 + eta6*pp6 + eta6*pn6 + eta7*pn7\n",
    "oneminbeta = eta5*np5 + eta6*np6 + eta6*nn6 + eta7*nn7"
   ]
  },
  {
   "cell_type": "code",
   "execution_count": 4,
   "id": "e3add4fc",
   "metadata": {},
   "outputs": [
    {
     "data": {
      "text/plain": [
       "15.999999967192807"
      ]
     },
     "execution_count": 4,
     "metadata": {},
     "output_type": "execute_result"
    }
   ],
   "source": [
    "beta"
   ]
  },
  {
   "cell_type": "code",
   "execution_count": 5,
   "id": "84abcd19",
   "metadata": {},
   "outputs": [
    {
     "data": {
      "text/plain": [
       "15.99999996075853"
      ]
     },
     "execution_count": 5,
     "metadata": {},
     "output_type": "execute_result"
    }
   ],
   "source": [
    "oneminbeta"
   ]
  },
  {
   "cell_type": "markdown",
   "id": "6d6e3d25",
   "metadata": {},
   "source": [
    "This results are consistent with the number of particles but cannot be used to find $\\beta$."
   ]
  },
  {
   "cell_type": "code",
   "execution_count": null,
   "id": "3d7663e4",
   "metadata": {},
   "outputs": [],
   "source": []
  }
 ],
 "metadata": {
  "kernelspec": {
   "display_name": "Python 3 (ipykernel)",
   "language": "python",
   "name": "python3"
  },
  "language_info": {
   "codemirror_mode": {
    "name": "ipython",
    "version": 3
   },
   "file_extension": ".py",
   "mimetype": "text/x-python",
   "name": "python",
   "nbconvert_exporter": "python",
   "pygments_lexer": "ipython3",
   "version": "3.9.12"
  }
 },
 "nbformat": 4,
 "nbformat_minor": 5
}
